{
 "cells": [
  {
   "cell_type": "markdown",
   "metadata": {},
   "source": [
    "# Finantier Assessment"
   ]
  },
  {
   "cell_type": "markdown",
   "metadata": {},
   "source": [
    "## Data Preprocessing"
   ]
  },
  {
   "cell_type": "code",
   "execution_count": 5,
   "metadata": {},
   "outputs": [],
   "source": [
    "# configs\n",
    "fp_data = '../project/data/finantier_data_technical_test_dataset.csv'\n",
    "fp_encoder = '../project/preprocessing/encoder.pickle'"
   ]
  },
  {
   "cell_type": "code",
   "execution_count": 2,
   "metadata": {},
   "outputs": [],
   "source": [
    "import pandas as pd\n",
    "import pickle\n",
    "from sklearn.preprocessing import OneHotEncoder"
   ]
  },
  {
   "cell_type": "code",
   "execution_count": 6,
   "metadata": {},
   "outputs": [],
   "source": [
    "def load_data(fp):\n",
    "    df = pd.read_csv(fp)\n",
    "\n",
    "    # drop error rows\n",
    "    df = df[~df['ErrorIndicator'].notna()]\n",
    "    df = df.drop('ErrorIndicator', axis=1)\n",
    "    df = df[~df.isnull().all(axis=1)]                       # null rows due to formatting\n",
    "\n",
    "    return df\n",
    "\n",
    "    \n",
    "def process_telecom_data(df, fp, train_encoding=False, target=False):\n",
    "    # TotalCharges to numeric\n",
    "    df['TotalCharges'] = pd.to_numeric(df.TotalCharges.replace(\" \", \"0\"))\n",
    "\n",
    "    # encode target\n",
    "    if target:\n",
    "        mappings = {'No':0, 'Yes':1}\n",
    "        df['Default'] = df.Default.map(mappings).fillna(0)\n",
    "    # encode features\n",
    "    # enumerate categorical columns\n",
    "    cat_cols = [\"gender\", \"SeniorCitizen\", \"Partner\", \"Dependents\", \"PhoneService\", \"MultipleLines\", \"InternetService\",\n",
    "    \"OnlineSecurity\", \"OnlineBackup\", \"DeviceProtection\", \"TechSupport\", \"StreamingTV\", \"StreamingMovies\", \"Contract\",\n",
    "    \"PaperlessBilling\", \"PaymentMethod\"]\n",
    "\n",
    "    df_cat = df[cat_cols]\n",
    "\n",
    "    if train_encoding:     \n",
    "        # Instantiating the Scikit-Learn OHE object\n",
    "        ohe = OneHotEncoder(handle_unknown='ignore', drop='first', sparse=False)\n",
    "        \n",
    "        # Fitting the DataFrame to the Scikit-Learn one-hot encoder\n",
    "        dummies = ohe.fit_transform(df_cat)\n",
    "\n",
    "        # save trained encoder for future use\n",
    "        with open(fp, 'wb') as f:\n",
    "            pickle.dump(ohe, f)\n",
    "\n",
    "    else:\n",
    "        # load pickled encoder\n",
    "        with open(fp, 'rb') as f:\n",
    "            ohe = pickle.load(f)\n",
    "            \n",
    "        dummies = ohe.transform(df_cat)\n",
    "        \n",
    "    # Using the output dummies and transformer categories to produce a cleaner looking dataframe\n",
    "    dummies_df = pd.DataFrame(dummies)\n",
    "    dummies_df.columns = ohe.get_feature_names_out()\n",
    "\n",
    "    numeric_df = df.drop(cat_cols, axis=1).reset_index(drop=True)\n",
    "\n",
    "    df = pd.concat([dummies_df, numeric_df], axis=1)\n",
    "\n",
    "    return df"
   ]
  },
  {
   "cell_type": "code",
   "execution_count": 40,
   "metadata": {},
   "outputs": [],
   "source": [
    "df = load_data(fp_data)"
   ]
  },
  {
   "cell_type": "code",
   "execution_count": 81,
   "metadata": {},
   "outputs": [
    {
     "name": "stdout",
     "output_type": "stream",
     "text": [
      "<class 'pandas.core.frame.DataFrame'>\n",
      "Int64Index: 7040 entries, 1 to 7047\n",
      "Data columns (total 21 columns):\n",
      " #   Column            Non-Null Count  Dtype  \n",
      "---  ------            --------------  -----  \n",
      " 0   customerID        7040 non-null   object \n",
      " 1   gender            7040 non-null   object \n",
      " 2   SeniorCitizen     7040 non-null   float64\n",
      " 3   Partner           7040 non-null   object \n",
      " 4   Dependents        7040 non-null   object \n",
      " 5   tenure            7040 non-null   float64\n",
      " 6   PhoneService      7040 non-null   object \n",
      " 7   MultipleLines     7040 non-null   object \n",
      " 8   InternetService   7040 non-null   object \n",
      " 9   OnlineSecurity    7040 non-null   object \n",
      " 10  OnlineBackup      7040 non-null   object \n",
      " 11  DeviceProtection  7040 non-null   object \n",
      " 12  TechSupport       7040 non-null   object \n",
      " 13  StreamingTV       7040 non-null   object \n",
      " 14  StreamingMovies   7040 non-null   object \n",
      " 15  Contract          7040 non-null   object \n",
      " 16  PaperlessBilling  7040 non-null   object \n",
      " 17  PaymentMethod     7040 non-null   object \n",
      " 18  MonthlyCharges    7040 non-null   float64\n",
      " 19  TotalCharges      7040 non-null   object \n",
      " 20  Default           7040 non-null   object \n",
      "dtypes: float64(3), object(18)\n",
      "memory usage: 1.2+ MB\n"
     ]
    }
   ],
   "source": [
    "df.info()"
   ]
  },
  {
   "cell_type": "code",
   "execution_count": 41,
   "metadata": {},
   "outputs": [],
   "source": [
    "df_final = process_telecom_data(df, fp_encoder, train_encoding=True, target=True)"
   ]
  },
  {
   "cell_type": "code",
   "execution_count": 26,
   "metadata": {},
   "outputs": [
    {
     "data": {
      "text/plain": [
       "Index(['gender_Male', 'SeniorCitizen_1.0', 'Partner_Yes', 'Dependents_Yes',\n",
       "       'PhoneService_Yes', 'MultipleLines_No phone service',\n",
       "       'MultipleLines_Yes', 'InternetService_Fiber optic',\n",
       "       'InternetService_No', 'OnlineSecurity_No internet service',\n",
       "       'OnlineSecurity_Yes', 'OnlineBackup_No internet service',\n",
       "       'OnlineBackup_Yes', 'DeviceProtection_No internet service',\n",
       "       'DeviceProtection_Yes', 'TechSupport_No internet service',\n",
       "       'TechSupport_Yes', 'StreamingTV_No internet service', 'StreamingTV_Yes',\n",
       "       'StreamingMovies_No internet service', 'StreamingMovies_Yes',\n",
       "       'Contract_One year', 'Contract_Two year', 'PaperlessBilling_Yes',\n",
       "       'PaymentMethod_Credit card (automatic)',\n",
       "       'PaymentMethod_Electronic check', 'PaymentMethod_Mailed check',\n",
       "       'customerID', 'tenure', 'MonthlyCharges', 'TotalCharges', 'Default'],\n",
       "      dtype='object')"
      ]
     },
     "execution_count": 26,
     "metadata": {},
     "output_type": "execute_result"
    }
   ],
   "source": [
    "df_final.columns"
   ]
  },
  {
   "cell_type": "code",
   "execution_count": 42,
   "metadata": {},
   "outputs": [],
   "source": [
    "X = df_final.drop(['customerID', 'Default'], axis=1)\n",
    "y = df_final.Default"
   ]
  },
  {
   "cell_type": "markdown",
   "metadata": {},
   "source": [
    "## Model Training"
   ]
  },
  {
   "cell_type": "code",
   "execution_count": 38,
   "metadata": {},
   "outputs": [],
   "source": [
    "import xgboost as xgb\n",
    "import pandas as pd"
   ]
  },
  {
   "cell_type": "code",
   "execution_count": 43,
   "metadata": {},
   "outputs": [
    {
     "name": "stdout",
     "output_type": "stream",
     "text": [
      "(5632, 30)\n",
      "(5632,)\n",
      "(1408, 30)\n",
      "(1408,)\n"
     ]
    }
   ],
   "source": [
    "# create test train split\n",
    "from sklearn.model_selection import train_test_split\n",
    "\n",
    "X_train, X_test, y_train, y_test = train_test_split(X, y, test_size=0.2, random_state=123)\n",
    "\n",
    "print(X_train.shape)\n",
    "print(y_train.shape)\n",
    "print(X_test.shape)\n",
    "print(y_test.shape)"
   ]
  },
  {
   "cell_type": "code",
   "execution_count": 19,
   "metadata": {},
   "outputs": [],
   "source": [
    "from sklearn.model_selection import GridSearchCV\n",
    "\n",
    "# hyperparameters for Grid Search\n",
    "params = { 'max_depth': [3,7,10],\n",
    "           'objective': [\"binary:logistic\"],\n",
    "           'learning_rate': [0.01, 0.05, 0.1],\n",
    "           'colsample_bytree': [0.3, 0.7, 1],\n",
    "           'scale_pos_weight': [1,3,5]}\n",
    "\n",
    "# instantiate regressor with hyper parameters\n",
    "xg_class = xgb.XGBClassifier(tree_method='gpu_hist', seed=123)\n",
    "\n",
    "# grid search with cross validation for accurate and robust models\n",
    "clf = GridSearchCV( estimator=xg_class,\n",
    "                    param_grid=params,\n",
    "                    cv=3,\n",
    "                    n_jobs=-1,\n",
    "                    scoring='recall',\n",
    "                    verbose=1, refit=True)"
   ]
  },
  {
   "cell_type": "code",
   "execution_count": 20,
   "metadata": {},
   "outputs": [
    {
     "name": "stdout",
     "output_type": "stream",
     "text": [
      "Fitting 3 folds for each of 81 candidates, totalling 243 fits\n"
     ]
    },
    {
     "data": {
      "text/plain": [
       "GridSearchCV(cv=3,\n",
       "             estimator=XGBClassifier(base_score=None, booster=None,\n",
       "                                     callbacks=None, colsample_bylevel=None,\n",
       "                                     colsample_bynode=None,\n",
       "                                     colsample_bytree=None,\n",
       "                                     early_stopping_rounds=None,\n",
       "                                     enable_categorical=False, eval_metric=None,\n",
       "                                     gamma=None, gpu_id=None, grow_policy=None,\n",
       "                                     importance_type=None,\n",
       "                                     interaction_constraints=None,\n",
       "                                     learning_rate=None, max_bin=None,\n",
       "                                     max_ca...\n",
       "                                     missing=nan, monotone_constraints=None,\n",
       "                                     n_estimators=100, n_jobs=None,\n",
       "                                     num_parallel_tree=None, predictor=None,\n",
       "                                     random_state=None, reg_alpha=None,\n",
       "                                     reg_lambda=None, ...),\n",
       "             n_jobs=-1,\n",
       "             param_grid={'colsample_bytree': [0.3, 0.7, 1],\n",
       "                         'learning_rate': [0.01, 0.05, 0.1],\n",
       "                         'max_depth': [3, 7, 10],\n",
       "                         'objective': ['binary:logistic'],\n",
       "                         'scale_pos_weight': [1, 3, 5]},\n",
       "             scoring='recall', verbose=1)"
      ]
     },
     "execution_count": 20,
     "metadata": {},
     "output_type": "execute_result"
    }
   ],
   "source": [
    "# fit regressor to training set and predict using btest set\n",
    "clf.fit(X_train,y_train)"
   ]
  },
  {
   "cell_type": "markdown",
   "metadata": {},
   "source": [
    "## Results"
   ]
  },
  {
   "cell_type": "markdown",
   "metadata": {},
   "source": [
    "### Model Fit"
   ]
  },
  {
   "cell_type": "code",
   "execution_count": 82,
   "metadata": {},
   "outputs": [
    {
     "name": "stdout",
     "output_type": "stream",
     "text": [
      "Best parameters: {'colsample_bytree': 1, 'learning_rate': 0.01, 'max_depth': 3, 'objective': 'binary:logistic', 'scale_pos_weight': 5}\n",
      "Best recall:  0.9445544554455445\n"
     ]
    }
   ],
   "source": [
    "# model training\n",
    "print(\"Best parameters:\", clf.best_params_)\n",
    "print(\"Best recall: \", (clf.best_score_))"
   ]
  },
  {
   "cell_type": "code",
   "execution_count": 23,
   "metadata": {},
   "outputs": [
    {
     "data": {
      "text/plain": [
       "XGBClassifier(base_score=0.5, booster='gbtree', callbacks=None,\n",
       "              colsample_bylevel=1, colsample_bynode=1, colsample_bytree=1,\n",
       "              early_stopping_rounds=None, enable_categorical=False,\n",
       "              eval_metric=None, gamma=0, gpu_id=-1, grow_policy='depthwise',\n",
       "              importance_type=None, interaction_constraints='',\n",
       "              learning_rate=0.01, max_bin=256, max_cat_to_onehot=4,\n",
       "              max_delta_step=0, max_depth=3, max_leaves=0, min_child_weight=1,\n",
       "              missing=nan, monotone_constraints='()', n_estimators=100,\n",
       "              n_jobs=0, num_parallel_tree=1, predictor='auto', random_state=0,\n",
       "              reg_alpha=0, reg_lambda=1, ...)"
      ]
     },
     "execution_count": 23,
     "metadata": {},
     "output_type": "execute_result"
    }
   ],
   "source": [
    "best_model = xgb.XGBClassifier(**clf.best_params_)\n",
    "best_model.fit(X_train,y_train)"
   ]
  },
  {
   "cell_type": "markdown",
   "metadata": {},
   "source": [
    "### Performance on Test Set"
   ]
  },
  {
   "cell_type": "code",
   "execution_count": 58,
   "metadata": {},
   "outputs": [],
   "source": [
    "%matplotlib inline\n",
    "import matplotlib.pyplot as plt\n",
    "plt.style.use('seaborn')"
   ]
  },
  {
   "cell_type": "code",
   "execution_count": 48,
   "metadata": {},
   "outputs": [],
   "source": [
    "preds = load_model.predict(X_test)"
   ]
  },
  {
   "cell_type": "code",
   "execution_count": 49,
   "metadata": {},
   "outputs": [
    {
     "data": {
      "text/plain": [
       "0    1054\n",
       "1     354\n",
       "Name: Default, dtype: int64"
      ]
     },
     "execution_count": 49,
     "metadata": {},
     "output_type": "execute_result"
    }
   ],
   "source": [
    "y_test.value_counts()"
   ]
  },
  {
   "cell_type": "code",
   "execution_count": 60,
   "metadata": {},
   "outputs": [
    {
     "name": "stderr",
     "output_type": "stream",
     "text": [
      "C:\\Users\\jevon\\.conda\\envs\\finantier\\lib\\site-packages\\sklearn\\utils\\deprecation.py:87: FutureWarning: Function plot_confusion_matrix is deprecated; Function `plot_confusion_matrix` is deprecated in 1.0 and will be removed in 1.2. Use one of the class methods: ConfusionMatrixDisplay.from_predictions or ConfusionMatrixDisplay.from_estimator.\n",
      "  warnings.warn(msg, category=FutureWarning)\n"
     ]
    },
    {
     "data": {
      "image/png": "[encoded data removed]",
      "text/plain": [
       "<Figure size 576x396 with 2 Axes>"
      ]
     },
     "metadata": {},
     "output_type": "display_data"
    }
   ],
   "source": [
    "from sklearn.metrics import plot_confusion_matrix\n",
    "from sklearn import metrics\n",
    "\n",
    "fpr, tpr, _ = metrics.roc_curve(y_test, preds)\n",
    "auc = metrics.roc_auc_score(y_test, preds)\n",
    "\n",
    "plot_confusion_matrix(load_model, X_test, y_test)\n",
    "plt.show()"
   ]
  },
  {
   "cell_type": "code",
   "execution_count": 64,
   "metadata": {},
   "outputs": [],
   "source": [
    "from sklearn.metrics import f1_score\n",
    "from sklearn.metrics import roc_curve\n",
    "from sklearn.metrics import roc_auc_score\n",
    "\n",
    "# f1 score for model\n",
    "f1_score = f1_score(y_test, preds)\n",
    "\n",
    "# roc curve for model\n",
    "fpr1, tpr1, thresh1 = roc_curve(y_test, y_pred_proba, pos_label=1)\n",
    "\n",
    "# roc curve for tpr = fpr \n",
    "random_probs = [0 for i in range(len(y_test))]\n",
    "p_fpr, p_tpr, _ = roc_curve(y_test, random_probs, pos_label=1)\n",
    "\n",
    "# auc scores\n",
    "auc_score1 = roc_auc_score(y_test, y_pred_proba)"
   ]
  },
  {
   "cell_type": "code",
   "execution_count": 62,
   "metadata": {},
   "outputs": [
    {
     "data": {
      "image/png": "[encoded data removed]",
      "text/plain": [
       "<Figure size 576x396 with 1 Axes>"
      ]
     },
     "metadata": {},
     "output_type": "display_data"
    },
    {
     "name": "stdout",
     "output_type": "stream",
     "text": [
      "AUC=0.8591175398535575\n"
     ]
    }
   ],
   "source": [
    "# matplotlib\n",
    "import matplotlib.pyplot as plt\n",
    "\n",
    "\n",
    "# plot roc curves\n",
    "plt.plot(fpr1, tpr1, linestyle='--',color='orange', label='XGBoost')\n",
    "plt.plot(p_fpr, p_tpr, linestyle='--', color='blue')\n",
    "# title\n",
    "plt.title('ROC curve')\n",
    "# x label\n",
    "plt.xlabel('False Positive Rate')\n",
    "# y label\n",
    "plt.ylabel('True Positive rate')\n",
    "\n",
    "plt.legend(loc='best')\n",
    "plt.savefig('ROC',dpi=300)\n",
    "plt.show();\n",
    "\n",
    "print(\"AUC=\"+str(auc_score1))"
   ]
  },
  {
   "cell_type": "code",
   "execution_count": 63,
   "metadata": {},
   "outputs": [
    {
     "data": {
      "text/plain": [
       "array([0.        , 0.17514124, 0.24293785, 0.36440678, 0.42090395,\n",
       "       0.42655367, 0.5       , 0.50847458, 0.58474576, 0.64124294,\n",
       "       0.64971751, 0.72033898, 0.76271186, 0.77118644, 0.79943503,\n",
       "       0.81355932, 0.81920904, 0.83898305, 0.83898305, 0.84463277,\n",
       "       0.84463277, 0.84463277, 0.84745763, 0.85310734, 0.85875706,\n",
       "       0.86440678, 0.86723164, 0.86723164, 0.87288136, 0.87288136,\n",
       "       0.87570621, 0.87570621, 0.87570621, 0.87853107, 0.88983051,\n",
       "       0.89265537, 0.89265537, 0.89830508, 0.90112994, 0.90960452,\n",
       "       0.90960452, 0.91242938, 0.91242938, 0.91525424, 0.91525424,\n",
       "       0.91525424, 0.91525424, 0.92090395, 0.92090395, 0.92090395,\n",
       "       0.92372881, 0.92372881, 0.92372881, 0.92655367, 0.92655367,\n",
       "       0.92937853, 0.92937853, 0.92937853, 0.92937853, 0.92937853,\n",
       "       0.93502825, 0.93502825, 0.93785311, 0.93785311, 0.94350282,\n",
       "       0.94350282, 0.94350282, 0.9519774 , 0.9519774 , 0.9519774 ,\n",
       "       0.9519774 , 0.9519774 , 0.95480226, 0.95480226, 0.96045198,\n",
       "       0.96327684, 0.96327684, 0.96327684, 0.96327684, 0.96610169,\n",
       "       0.96610169, 0.96610169, 0.96610169, 0.96610169, 0.96892655,\n",
       "       0.96892655, 0.96892655, 0.96892655, 0.97175141, 0.97175141,\n",
       "       0.97175141, 0.97457627, 0.97457627, 0.97740113, 0.97740113,\n",
       "       0.97740113, 0.97740113, 0.97740113, 0.97740113, 0.97740113,\n",
       "       0.97740113, 0.98022599, 0.98305085, 0.98305085, 0.98305085,\n",
       "       0.98870056, 0.98870056, 0.98870056, 0.98870056, 0.99152542,\n",
       "       0.99152542, 0.99152542, 0.99435028, 0.99435028, 0.99717514,\n",
       "       0.99717514, 0.99717514, 0.99717514, 0.99717514, 0.99717514,\n",
       "       0.99717514, 0.99717514, 0.99717514, 0.99717514, 0.99717514,\n",
       "       0.99717514, 0.99717514, 0.99717514, 1.        , 1.        ,\n",
       "       1.        , 1.        , 1.        ])"
      ]
     },
     "execution_count": 63,
     "metadata": {},
     "output_type": "execute_result"
    }
   ],
   "source": [
    "tpr1"
   ]
  },
  {
   "cell_type": "markdown",
   "metadata": {},
   "source": [
    "## Implementation"
   ]
  },
  {
   "cell_type": "code",
   "execution_count": 34,
   "metadata": {},
   "outputs": [],
   "source": [
    "best_model.save_model('../project/model/xgboost_model.pickle.dat')"
   ]
  },
  {
   "cell_type": "code",
   "execution_count": 44,
   "metadata": {},
   "outputs": [],
   "source": [
    "load_model = xgb.XGBClassifier()\n",
    "load_model.load_model('../project/model/xgboost_model.pickle.dat')"
   ]
  },
  {
   "cell_type": "code",
   "execution_count": 45,
   "metadata": {},
   "outputs": [
    {
     "data": {
      "text/plain": [
       "array([0.21883932, 0.32314122, 0.21535492, ..., 0.7356782 , 0.54051733,\n",
       "       0.33824944], dtype=float32)"
      ]
     },
     "execution_count": 45,
     "metadata": {},
     "output_type": "execute_result"
    }
   ],
   "source": [
    "load_model.predict_proba(X_test)[::,1]"
   ]
  }
 ],
 "metadata": {
  "interpreter": {
   "hash": "b3ba2566441a7c06988d0923437866b63cedc61552a5af99d1f4fb67d367b25f"
  },
  "kernelspec": {
   "display_name": "Python 3.7.6 ('base')",
   "language": "python",
   "name": "python3"
  },
  "language_info": {
   "codemirror_mode": {
    "name": "ipython",
    "version": 3
   },
   "file_extension": ".py",
   "mimetype": "text/x-python",
   "name": "python",
   "nbconvert_exporter": "python",
   "pygments_lexer": "ipython3",
   "version": "3.10.4"
  },
  "orig_nbformat": 4
 },
 "nbformat": 4,
 "nbformat_minor": 2
}
